{
 "cells": [
  {
   "cell_type": "code",
   "execution_count": 11,
   "metadata": {
    "collapsed": true
   },
   "outputs": [],
   "source": [
    "__author__ = \"whackadoodle\"\n",
    "\n",
    "import numpy as np\n",
    "import pandas as pd\n",
    "from sklearn.ensemble import RandomForestClassifier\n",
    "from sklearn.preprocessing import StandardScaler\n",
    "from sklearn.preprocessing import LabelEncoder"
   ]
  },
  {
   "cell_type": "markdown",
   "metadata": {},
   "source": [
    "## Training Data"
   ]
  },
  {
   "cell_type": "code",
   "execution_count": 2,
   "metadata": {
    "collapsed": false
   },
   "outputs": [
    {
     "name": "stdout",
     "output_type": "stream",
     "text": [
      "<class 'pandas.core.frame.DataFrame'>\n",
      "RangeIndex: 108129 entries, 0 to 108128\n",
      "Data columns (total 14 columns):\n",
      "project_id               108129 non-null object\n",
      "name                     108128 non-null object\n",
      "desc                     108121 non-null object\n",
      "goal                     108129 non-null float64\n",
      "keywords                 108129 non-null object\n",
      "disable_communication    108129 non-null bool\n",
      "country                  108129 non-null object\n",
      "currency                 108129 non-null object\n",
      "deadline                 108129 non-null int64\n",
      "state_changed_at         108129 non-null int64\n",
      "created_at               108129 non-null int64\n",
      "launched_at              108129 non-null int64\n",
      "backers_count            108129 non-null int64\n",
      "final_status             108129 non-null int64\n",
      "dtypes: bool(1), float64(1), int64(6), object(6)\n",
      "memory usage: 10.8+ MB\n"
     ]
    }
   ],
   "source": [
    "train_df = pd.read_csv('train.csv')\n",
    "\n",
    "train_df.info()"
   ]
  },
  {
   "cell_type": "code",
   "execution_count": 3,
   "metadata": {
    "collapsed": false
   },
   "outputs": [
    {
     "data": {
      "text/html": [
       "<div>\n",
       "<table border=\"1\" class=\"dataframe\">\n",
       "  <thead>\n",
       "    <tr style=\"text-align: right;\">\n",
       "      <th></th>\n",
       "      <th>project_id</th>\n",
       "      <th>name</th>\n",
       "      <th>desc</th>\n",
       "      <th>goal</th>\n",
       "      <th>keywords</th>\n",
       "      <th>disable_communication</th>\n",
       "      <th>country</th>\n",
       "      <th>currency</th>\n",
       "      <th>deadline</th>\n",
       "      <th>state_changed_at</th>\n",
       "      <th>created_at</th>\n",
       "      <th>launched_at</th>\n",
       "      <th>backers_count</th>\n",
       "      <th>final_status</th>\n",
       "    </tr>\n",
       "  </thead>\n",
       "  <tbody>\n",
       "    <tr>\n",
       "      <th>0</th>\n",
       "      <td>kkst1451568084</td>\n",
       "      <td>drawing for dollars</td>\n",
       "      <td>I like drawing pictures. and then i color them...</td>\n",
       "      <td>20.0</td>\n",
       "      <td>drawing-for-dollars</td>\n",
       "      <td>False</td>\n",
       "      <td>US</td>\n",
       "      <td>USD</td>\n",
       "      <td>1241333999</td>\n",
       "      <td>1241334017</td>\n",
       "      <td>1240600507</td>\n",
       "      <td>1240602723</td>\n",
       "      <td>3</td>\n",
       "      <td>1</td>\n",
       "    </tr>\n",
       "    <tr>\n",
       "      <th>1</th>\n",
       "      <td>kkst1474482071</td>\n",
       "      <td>Sponsor Dereck Blackburn (Lostwars) Artist in ...</td>\n",
       "      <td>I, Dereck Blackburn will be taking upon an inc...</td>\n",
       "      <td>300.0</td>\n",
       "      <td>sponsor-dereck-blackburn-lostwars-artist-in-re...</td>\n",
       "      <td>False</td>\n",
       "      <td>US</td>\n",
       "      <td>USD</td>\n",
       "      <td>1242429000</td>\n",
       "      <td>1242432018</td>\n",
       "      <td>1240960224</td>\n",
       "      <td>1240975592</td>\n",
       "      <td>2</td>\n",
       "      <td>0</td>\n",
       "    </tr>\n",
       "    <tr>\n",
       "      <th>2</th>\n",
       "      <td>kkst183622197</td>\n",
       "      <td>Mr. Squiggles</td>\n",
       "      <td>So I saw darkpony's successfully funded drawin...</td>\n",
       "      <td>30.0</td>\n",
       "      <td>mr-squiggles</td>\n",
       "      <td>False</td>\n",
       "      <td>US</td>\n",
       "      <td>USD</td>\n",
       "      <td>1243027560</td>\n",
       "      <td>1243027818</td>\n",
       "      <td>1242163613</td>\n",
       "      <td>1242164398</td>\n",
       "      <td>0</td>\n",
       "      <td>0</td>\n",
       "    </tr>\n",
       "    <tr>\n",
       "      <th>3</th>\n",
       "      <td>kkst597742710</td>\n",
       "      <td>Help me write my second novel.</td>\n",
       "      <td>Do your part to help out starving artists and ...</td>\n",
       "      <td>500.0</td>\n",
       "      <td>help-me-write-my-second-novel</td>\n",
       "      <td>False</td>\n",
       "      <td>US</td>\n",
       "      <td>USD</td>\n",
       "      <td>1243555740</td>\n",
       "      <td>1243556121</td>\n",
       "      <td>1240963795</td>\n",
       "      <td>1240966730</td>\n",
       "      <td>18</td>\n",
       "      <td>1</td>\n",
       "    </tr>\n",
       "    <tr>\n",
       "      <th>4</th>\n",
       "      <td>kkst1913131122</td>\n",
       "      <td>Support casting my sculpture in bronze</td>\n",
       "      <td>I'm nearing completion on a sculpture, current...</td>\n",
       "      <td>2000.0</td>\n",
       "      <td>support-casting-my-sculpture-in-bronze</td>\n",
       "      <td>False</td>\n",
       "      <td>US</td>\n",
       "      <td>USD</td>\n",
       "      <td>1243769880</td>\n",
       "      <td>1243770317</td>\n",
       "      <td>1241177914</td>\n",
       "      <td>1241180541</td>\n",
       "      <td>1</td>\n",
       "      <td>0</td>\n",
       "    </tr>\n",
       "  </tbody>\n",
       "</table>\n",
       "</div>"
      ],
      "text/plain": [
       "       project_id                                               name  \\\n",
       "0  kkst1451568084                                drawing for dollars   \n",
       "1  kkst1474482071  Sponsor Dereck Blackburn (Lostwars) Artist in ...   \n",
       "2   kkst183622197                                      Mr. Squiggles   \n",
       "3   kkst597742710                     Help me write my second novel.   \n",
       "4  kkst1913131122             Support casting my sculpture in bronze   \n",
       "\n",
       "                                                desc    goal  \\\n",
       "0  I like drawing pictures. and then i color them...    20.0   \n",
       "1  I, Dereck Blackburn will be taking upon an inc...   300.0   \n",
       "2  So I saw darkpony's successfully funded drawin...    30.0   \n",
       "3  Do your part to help out starving artists and ...   500.0   \n",
       "4  I'm nearing completion on a sculpture, current...  2000.0   \n",
       "\n",
       "                                            keywords disable_communication  \\\n",
       "0                                drawing-for-dollars                 False   \n",
       "1  sponsor-dereck-blackburn-lostwars-artist-in-re...                 False   \n",
       "2                                       mr-squiggles                 False   \n",
       "3                      help-me-write-my-second-novel                 False   \n",
       "4             support-casting-my-sculpture-in-bronze                 False   \n",
       "\n",
       "  country currency    deadline  state_changed_at  created_at  launched_at  \\\n",
       "0      US      USD  1241333999        1241334017  1240600507   1240602723   \n",
       "1      US      USD  1242429000        1242432018  1240960224   1240975592   \n",
       "2      US      USD  1243027560        1243027818  1242163613   1242164398   \n",
       "3      US      USD  1243555740        1243556121  1240963795   1240966730   \n",
       "4      US      USD  1243769880        1243770317  1241177914   1241180541   \n",
       "\n",
       "   backers_count  final_status  \n",
       "0              3             1  \n",
       "1              2             0  \n",
       "2              0             0  \n",
       "3             18             1  \n",
       "4              1             0  "
      ]
     },
     "execution_count": 3,
     "metadata": {},
     "output_type": "execute_result"
    }
   ],
   "source": [
    "train_df.head(5)"
   ]
  },
  {
   "cell_type": "code",
   "execution_count": 4,
   "metadata": {
    "collapsed": false
   },
   "outputs": [
    {
     "data": {
      "text/html": [
       "<div>\n",
       "<table border=\"1\" class=\"dataframe\">\n",
       "  <thead>\n",
       "    <tr style=\"text-align: right;\">\n",
       "      <th></th>\n",
       "      <th>goal</th>\n",
       "      <th>deadline</th>\n",
       "      <th>state_changed_at</th>\n",
       "      <th>created_at</th>\n",
       "      <th>launched_at</th>\n",
       "      <th>backers_count</th>\n",
       "      <th>final_status</th>\n",
       "    </tr>\n",
       "  </thead>\n",
       "  <tbody>\n",
       "    <tr>\n",
       "      <th>count</th>\n",
       "      <td>1.081290e+05</td>\n",
       "      <td>1.081290e+05</td>\n",
       "      <td>1.081290e+05</td>\n",
       "      <td>1.081290e+05</td>\n",
       "      <td>1.081290e+05</td>\n",
       "      <td>108129.000000</td>\n",
       "      <td>108129.000000</td>\n",
       "    </tr>\n",
       "    <tr>\n",
       "      <th>mean</th>\n",
       "      <td>3.672623e+04</td>\n",
       "      <td>1.380248e+09</td>\n",
       "      <td>1.380153e+09</td>\n",
       "      <td>1.374037e+09</td>\n",
       "      <td>1.377299e+09</td>\n",
       "      <td>123.516661</td>\n",
       "      <td>0.319627</td>\n",
       "    </tr>\n",
       "    <tr>\n",
       "      <th>std</th>\n",
       "      <td>9.719027e+05</td>\n",
       "      <td>4.270222e+07</td>\n",
       "      <td>4.266402e+07</td>\n",
       "      <td>4.272310e+07</td>\n",
       "      <td>4.294421e+07</td>\n",
       "      <td>1176.745162</td>\n",
       "      <td>0.466334</td>\n",
       "    </tr>\n",
       "    <tr>\n",
       "      <th>min</th>\n",
       "      <td>1.000000e-02</td>\n",
       "      <td>1.241334e+09</td>\n",
       "      <td>1.241334e+09</td>\n",
       "      <td>1.240335e+09</td>\n",
       "      <td>1.240603e+09</td>\n",
       "      <td>0.000000</td>\n",
       "      <td>0.000000</td>\n",
       "    </tr>\n",
       "    <tr>\n",
       "      <th>25%</th>\n",
       "      <td>2.000000e+03</td>\n",
       "      <td>1.346732e+09</td>\n",
       "      <td>1.346695e+09</td>\n",
       "      <td>1.340058e+09</td>\n",
       "      <td>1.343917e+09</td>\n",
       "      <td>2.000000</td>\n",
       "      <td>0.000000</td>\n",
       "    </tr>\n",
       "    <tr>\n",
       "      <th>50%</th>\n",
       "      <td>5.000000e+03</td>\n",
       "      <td>1.393628e+09</td>\n",
       "      <td>1.393567e+09</td>\n",
       "      <td>1.384445e+09</td>\n",
       "      <td>1.390870e+09</td>\n",
       "      <td>17.000000</td>\n",
       "      <td>0.000000</td>\n",
       "    </tr>\n",
       "    <tr>\n",
       "      <th>75%</th>\n",
       "      <td>1.300000e+04</td>\n",
       "      <td>1.415719e+09</td>\n",
       "      <td>1.415548e+09</td>\n",
       "      <td>1.409623e+09</td>\n",
       "      <td>1.412807e+09</td>\n",
       "      <td>65.000000</td>\n",
       "      <td>1.000000</td>\n",
       "    </tr>\n",
       "    <tr>\n",
       "      <th>max</th>\n",
       "      <td>1.000000e+08</td>\n",
       "      <td>1.433097e+09</td>\n",
       "      <td>1.433097e+09</td>\n",
       "      <td>1.432325e+09</td>\n",
       "      <td>1.432658e+09</td>\n",
       "      <td>219382.000000</td>\n",
       "      <td>1.000000</td>\n",
       "    </tr>\n",
       "  </tbody>\n",
       "</table>\n",
       "</div>"
      ],
      "text/plain": [
       "               goal      deadline  state_changed_at    created_at  \\\n",
       "count  1.081290e+05  1.081290e+05      1.081290e+05  1.081290e+05   \n",
       "mean   3.672623e+04  1.380248e+09      1.380153e+09  1.374037e+09   \n",
       "std    9.719027e+05  4.270222e+07      4.266402e+07  4.272310e+07   \n",
       "min    1.000000e-02  1.241334e+09      1.241334e+09  1.240335e+09   \n",
       "25%    2.000000e+03  1.346732e+09      1.346695e+09  1.340058e+09   \n",
       "50%    5.000000e+03  1.393628e+09      1.393567e+09  1.384445e+09   \n",
       "75%    1.300000e+04  1.415719e+09      1.415548e+09  1.409623e+09   \n",
       "max    1.000000e+08  1.433097e+09      1.433097e+09  1.432325e+09   \n",
       "\n",
       "        launched_at  backers_count   final_status  \n",
       "count  1.081290e+05  108129.000000  108129.000000  \n",
       "mean   1.377299e+09     123.516661       0.319627  \n",
       "std    4.294421e+07    1176.745162       0.466334  \n",
       "min    1.240603e+09       0.000000       0.000000  \n",
       "25%    1.343917e+09       2.000000       0.000000  \n",
       "50%    1.390870e+09      17.000000       0.000000  \n",
       "75%    1.412807e+09      65.000000       1.000000  \n",
       "max    1.432658e+09  219382.000000       1.000000  "
      ]
     },
     "execution_count": 4,
     "metadata": {},
     "output_type": "execute_result"
    }
   ],
   "source": [
    "train_df.describe()"
   ]
  },
  {
   "cell_type": "code",
   "execution_count": 5,
   "metadata": {
    "collapsed": false
   },
   "outputs": [
    {
     "data": {
      "text/plain": [
       "project_id               0\n",
       "name                     1\n",
       "desc                     8\n",
       "goal                     0\n",
       "keywords                 0\n",
       "disable_communication    0\n",
       "country                  0\n",
       "currency                 0\n",
       "deadline                 0\n",
       "state_changed_at         0\n",
       "created_at               0\n",
       "launched_at              0\n",
       "backers_count            0\n",
       "final_status             0\n",
       "dtype: int64"
      ]
     },
     "execution_count": 5,
     "metadata": {},
     "output_type": "execute_result"
    }
   ],
   "source": [
    "train_df.isnull().sum()"
   ]
  },
  {
   "cell_type": "code",
   "execution_count": 7,
   "metadata": {
    "collapsed": true
   },
   "outputs": [],
   "source": [
    "train_df_bkp = train_df\n",
    "\n",
    "train_df = train_df.drop(['name', 'desc', 'keywords', 'disable_communication'], axis=1)"
   ]
  },
  {
   "cell_type": "code",
   "execution_count": 8,
   "metadata": {
    "collapsed": false
   },
   "outputs": [
    {
     "name": "stdout",
     "output_type": "stream",
     "text": [
      "<class 'pandas.core.frame.DataFrame'>\n",
      "RangeIndex: 108129 entries, 0 to 108128\n",
      "Data columns (total 10 columns):\n",
      "project_id          108129 non-null object\n",
      "goal                108129 non-null float64\n",
      "country             108129 non-null object\n",
      "currency            108129 non-null object\n",
      "deadline            108129 non-null int64\n",
      "state_changed_at    108129 non-null int64\n",
      "created_at          108129 non-null int64\n",
      "launched_at         108129 non-null int64\n",
      "backers_count       108129 non-null int64\n",
      "final_status        108129 non-null int64\n",
      "dtypes: float64(1), int64(6), object(3)\n",
      "memory usage: 8.2+ MB\n"
     ]
    }
   ],
   "source": [
    "train_df.info()"
   ]
  },
  {
   "cell_type": "code",
   "execution_count": null,
   "metadata": {
    "collapsed": true
   },
   "outputs": [],
   "source": []
  }
 ],
 "metadata": {
  "kernelspec": {
   "display_name": "Python 3",
   "language": "python",
   "name": "python3"
  },
  "language_info": {
   "codemirror_mode": {
    "name": "ipython",
    "version": 3
   },
   "file_extension": ".py",
   "mimetype": "text/x-python",
   "name": "python",
   "nbconvert_exporter": "python",
   "pygments_lexer": "ipython3",
   "version": "3.6.0"
  }
 },
 "nbformat": 4,
 "nbformat_minor": 2
}
